{
 "cells": [
  {
   "cell_type": "code",
   "execution_count": 10,
   "metadata": {},
   "outputs": [
    {
     "name": "stdout",
     "output_type": "stream",
     "text": [
      "  Descrição do Produto  Preço Normal  Preço com Desconto  Preço no Cartão\n",
      "0            Produto A           100                  90               95\n",
      "1            Produto B           200                 180              185\n",
      "2            Produto C           300                 270              275\n"
     ]
    }
   ],
   "source": [
    "import pandas as pd\n",
    "\n",
    "# Criando um DataFrame com 4 colunas: Descrição do Produto, Preço Normal, Preço com Desconto e Preço no Cartão\n",
    "data = {\n",
    "    'Descrição do Produto': ['Produto A', 'Produto B', 'Produto C'],\n",
    "    'Preço Normal': [100, 200, 300],\n",
    "    'Preço com Desconto': [90, 180, 270],\n",
    "    'Preço no Cartão': [95, 185, 275]\n",
    "}\n",
    "\n",
    "df = pd.DataFrame(data)\n",
    "\n",
    "print(df)\n"
   ]
  },
  {
   "cell_type": "code",
   "execution_count": 14,
   "metadata": {},
   "outputs": [
    {
     "ename": "FileExistsError",
     "evalue": "[WinError 183] Não é possível criar um arquivo já existente: 'teste'",
     "output_type": "error",
     "traceback": [
      "\u001b[1;31m---------------------------------------------------------------------------\u001b[0m",
      "\u001b[1;31mFileExistsError\u001b[0m                           Traceback (most recent call last)",
      "Cell \u001b[1;32mIn[14], line 3\u001b[0m\n\u001b[0;32m      1\u001b[0m \u001b[38;5;28;01mimport\u001b[39;00m \u001b[38;5;21;01mos\u001b[39;00m\u001b[38;5;21;01m.\u001b[39;00m\u001b[38;5;21;01mpath\u001b[39;00m\n\u001b[1;32m----> 3\u001b[0m \u001b[43mos\u001b[49m\u001b[38;5;241;43m.\u001b[39;49m\u001b[43mmkdir\u001b[49m\u001b[43m(\u001b[49m\u001b[38;5;124;43m\"\u001b[39;49m\u001b[38;5;124;43mteste\u001b[39;49m\u001b[38;5;124;43m\"\u001b[39;49m\u001b[43m)\u001b[49m\n",
      "\u001b[1;31mFileExistsError\u001b[0m: [WinError 183] Não é possível criar um arquivo já existente: 'teste'"
     ]
    }
   ],
   "source": [
    "import os.path\n",
    "\n",
    "os.mkdir(\"teste\")"
   ]
  },
  {
   "cell_type": "code",
   "execution_count": 2,
   "metadata": {},
   "outputs": [
    {
     "name": "stdout",
     "output_type": "stream",
     "text": [
      "Diretório já existe\n"
     ]
    }
   ],
   "source": [
    "if os.path.exists(\"teste\"):\n",
    "    print(\"Diretório já existe\")\n",
    "else:\n",
    "    print(\"O diretório não existe\")"
   ]
  },
  {
   "cell_type": "code",
   "execution_count": 1,
   "metadata": {},
   "outputs": [
    {
     "ename": "NameError",
     "evalue": "name 'df' is not defined",
     "output_type": "error",
     "traceback": [
      "\u001b[1;31m---------------------------------------------------------------------------\u001b[0m",
      "\u001b[1;31mNameError\u001b[0m                                 Traceback (most recent call last)",
      "Cell \u001b[1;32mIn[1], line 2\u001b[0m\n\u001b[0;32m      1\u001b[0m \u001b[38;5;66;03m# Supondo que 'df' é o DataFrame criado anteriormente\u001b[39;00m\n\u001b[1;32m----> 2\u001b[0m \u001b[43mdf\u001b[49m\u001b[38;5;241m.\u001b[39mto_csv(\u001b[38;5;124m'\u001b[39m\u001b[38;5;124mteste/teste.csv\u001b[39m\u001b[38;5;124m'\u001b[39m, index\u001b[38;5;241m=\u001b[39m\u001b[38;5;28;01mFalse\u001b[39;00m, header\u001b[38;5;241m=\u001b[39m\u001b[38;5;28;01mFalse\u001b[39;00m)\n",
      "\u001b[1;31mNameError\u001b[0m: name 'df' is not defined"
     ]
    }
   ],
   "source": [
    "# Supondo que 'df' é o DataFrame criado anteriormente\n",
    "df.to_csv('teste/teste.csv', index=False, header=False)"
   ]
  },
  {
   "cell_type": "code",
   "execution_count": 4,
   "metadata": {},
   "outputs": [
    {
     "name": "stdout",
     "output_type": "stream",
     "text": [
      "Python 3.11.8\n"
     ]
    }
   ],
   "source": [
    "!python --version"
   ]
  },
  {
   "cell_type": "code",
   "execution_count": 8,
   "metadata": {},
   "outputs": [
    {
     "data": {
      "text/plain": [
       "'c:\\\\Users\\\\Acer\\\\OneDrive\\\\Área de Trabalho\\\\web_scrap_livro'"
      ]
     },
     "execution_count": 8,
     "metadata": {},
     "output_type": "execute_result"
    }
   ],
   "source": [
    "os.getcwd()"
   ]
  },
  {
   "cell_type": "code",
   "execution_count": 8,
   "metadata": {},
   "outputs": [
    {
     "data": {
      "text/plain": [
       "'c:\\\\Users\\\\Acer\\\\OneDrive\\\\Área de Trabalho\\\\web_scrap_livro'"
      ]
     },
     "execution_count": 8,
     "metadata": {},
     "output_type": "execute_result"
    }
   ],
   "source": [
    "os.path.dirname(\"c:\\\\Users\\\\Acer\\\\OneDrive\\\\Área de Trabalho\\\\web_scrap_livro\\\\teste\")"
   ]
  },
  {
   "cell_type": "code",
   "execution_count": 7,
   "metadata": {},
   "outputs": [
    {
     "name": "stdout",
     "output_type": "stream",
     "text": [
      "total 224K\n",
      "   0 drwxrwxrwx 1 root  512 Mar 23 11:12 ./\n",
      "   0 drwxrwxrwx 1 root  512 Mar 24 09:17 ../\n",
      "8.0K -rwxrwxrwx 1 root 4.3K Mar 23 11:10 produtos_pag_1.csv*\n",
      "4.0K -rwxrwxrwx 1 root 3.6K Mar 23 11:11 produtos_pag_10.csv*\n",
      "4.0K -rwxrwxrwx 1 root 3.4K Mar 23 11:11 produtos_pag_11.csv*\n",
      "4.0K -rwxrwxrwx 1 root 3.6K Mar 23 11:11 produtos_pag_12.csv*\n",
      "4.0K -rwxrwxrwx 1 root 3.5K Mar 23 11:11 produtos_pag_13.csv*\n",
      "4.0K -rwxrwxrwx 1 root 3.6K Mar 23 11:11 produtos_pag_14.csv*\n",
      "4.0K -rwxrwxrwx 1 root 3.4K Mar 23 11:11 produtos_pag_15.csv*\n",
      "4.0K -rwxrwxrwx 1 root 3.5K Mar 23 11:11 produtos_pag_16.csv*\n",
      "4.0K -rwxrwxrwx 1 root 3.6K Mar 23 11:11 produtos_pag_17.csv*\n",
      "4.0K -rwxrwxrwx 1 root 3.7K Mar 23 11:11 produtos_pag_18.csv*\n",
      "4.0K -rwxrwxrwx 1 root 3.7K Mar 23 11:11 produtos_pag_19.csv*\n",
      "8.0K -rwxrwxrwx 1 root 4.3K Mar 23 11:10 produtos_pag_2.csv*\n",
      "4.0K -rwxrwxrwx 1 root 3.7K Mar 23 11:11 produtos_pag_20.csv*\n",
      "4.0K -rwxrwxrwx 1 root 3.9K Mar 23 11:11 produtos_pag_21.csv*\n",
      "4.0K -rwxrwxrwx 1 root 3.8K Mar 23 11:11 produtos_pag_22.csv*\n",
      "8.0K -rwxrwxrwx 1 root 4.1K Mar 23 11:11 produtos_pag_23.csv*\n",
      "4.0K -rwxrwxrwx 1 root 4.0K Mar 23 11:11 produtos_pag_24.csv*\n",
      "8.0K -rwxrwxrwx 1 root 4.1K Mar 23 11:11 produtos_pag_25.csv*\n",
      "4.0K -rwxrwxrwx 1 root 3.6K Mar 23 11:11 produtos_pag_26.csv*\n",
      "4.0K -rwxrwxrwx 1 root 3.7K Mar 23 11:11 produtos_pag_27.csv*\n",
      "4.0K -rwxrwxrwx 1 root 3.6K Mar 23 11:12 produtos_pag_28.csv*\n",
      "8.0K -rwxrwxrwx 1 root 4.4K Mar 23 11:12 produtos_pag_29.csv*\n",
      "8.0K -rwxrwxrwx 1 root 4.5K Mar 23 11:10 produtos_pag_3.csv*\n",
      "4.0K -rwxrwxrwx 1 root 3.8K Mar 23 11:12 produtos_pag_30.csv*\n",
      "4.0K -rwxrwxrwx 1 root 3.9K Mar 23 11:12 produtos_pag_31.csv*\n",
      "8.0K -rwxrwxrwx 1 root 4.1K Mar 23 11:12 produtos_pag_32.csv*\n",
      "4.0K -rwxrwxrwx 1 root 3.8K Mar 23 11:12 produtos_pag_33.csv*\n",
      "4.0K -rwxrwxrwx 1 root 3.6K Mar 23 11:12 produtos_pag_34.csv*\n",
      "4.0K -rwxrwxrwx 1 root 3.9K Mar 23 11:12 produtos_pag_35.csv*\n",
      "8.0K -rwxrwxrwx 1 root 4.4K Mar 23 11:12 produtos_pag_36.csv*\n",
      "4.0K -rwxrwxrwx 1 root 3.7K Mar 23 11:12 produtos_pag_37.csv*\n",
      "4.0K -rwxrwxrwx 1 root 3.8K Mar 23 11:12 produtos_pag_38.csv*\n",
      "8.0K -rwxrwxrwx 1 root 4.1K Mar 23 11:12 produtos_pag_39.csv*\n",
      "8.0K -rwxrwxrwx 1 root 4.5K Mar 23 11:10 produtos_pag_4.csv*\n",
      "4.0K -rwxrwxrwx 1 root 3.8K Mar 23 11:12 produtos_pag_40.csv*\n",
      "4.0K -rwxrwxrwx 1 root 1.2K Mar 23 11:12 produtos_pag_41.csv*\n",
      "8.0K -rwxrwxrwx 1 root 4.8K Mar 23 11:10 produtos_pag_5.csv*\n",
      "8.0K -rwxrwxrwx 1 root 4.9K Mar 23 11:10 produtos_pag_6.csv*\n",
      "8.0K -rwxrwxrwx 1 root 4.7K Mar 23 11:10 produtos_pag_7.csv*\n",
      "8.0K -rwxrwxrwx 1 root 4.8K Mar 23 11:10 produtos_pag_8.csv*\n",
      "8.0K -rwxrwxrwx 1 root 4.8K Mar 23 11:11 produtos_pag_9.csv*\n"
     ]
    }
   ],
   "source": [
    "%%bash\n",
    "\n",
    "ls -GFlash produtos_funko/"
   ]
  },
  {
   "cell_type": "code",
   "execution_count": null,
   "metadata": {},
   "outputs": [],
   "source": []
  }
 ],
 "metadata": {
  "kernelspec": {
   "display_name": "Python 3",
   "language": "python",
   "name": "python3"
  },
  "language_info": {
   "codemirror_mode": {
    "name": "ipython",
    "version": 3
   },
   "file_extension": ".py",
   "mimetype": "text/x-python",
   "name": "python",
   "nbconvert_exporter": "python",
   "pygments_lexer": "ipython3",
   "version": "3.11.8"
  }
 },
 "nbformat": 4,
 "nbformat_minor": 2
}
